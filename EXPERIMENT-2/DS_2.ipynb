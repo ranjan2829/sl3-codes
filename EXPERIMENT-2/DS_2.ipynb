{
 "cells": [
  {
   "cell_type": "markdown",
   "id": "92bebcb4-6277-4348-9e25-820d282fb62b",
   "metadata": {
    "id": "92bebcb4-6277-4348-9e25-820d282fb62b"
   },
   "source": [
    "## 2.Data Wrangling II\n",
    "Create an “Academic performance” dataset of students and perform the following operations using Python.\n",
    "1. Scan all variables for missing values and inconsistencies. If there are missing values and/or\n",
    "inconsistencies, use any of the suitable techniques to deal with them.\n",
    "3. Scan all numeric variables for outliers. If there are outliers, use any of the suitable techniques\n",
    "to deal with them.\n",
    "4. Apply data transformations on at least one of the variables. The purpose of this\n",
    "transformation should be one of the following reasons: to change the scale for better\n",
    "understanding of the variable, to convert a non-linear relation into a linear one, or to decrease\n",
    "the skewness and convert the distribution into a normal distribution."
   ]
  },
  {
   "cell_type": "code",
   "execution_count": 2,
   "id": "c8ccbc21-37c3-4433-bc62-c7777cdcc677",
   "metadata": {
    "id": "c8ccbc21-37c3-4433-bc62-c7777cdcc677"
   },
   "outputs": [],
   "source": [
    "import pandas as pd\n",
    "import numpy as np\n",
    "import seaborn as sb\n",
    "import warnings\n",
    "import matplotlib.pyplot as plt\n",
    "from sklearn.preprocessing import StandardScaler\n",
    "import scipy.stats as stats"
   ]
  },
  {
   "cell_type": "code",
   "execution_count": 3,
   "id": "44e67f1e-601b-4561-a6fb-55bb65beae62",
   "metadata": {
    "id": "44e67f1e-601b-4561-a6fb-55bb65beae62"
   },
   "outputs": [],
   "source": [
    "df=pd.read_csv('data.csv')"
   ]
  },
  {
   "cell_type": "code",
   "execution_count": 4,
   "id": "195c7ed0-e5b1-4bbc-be4d-054946dc8e55",
   "metadata": {
    "id": "195c7ed0-e5b1-4bbc-be4d-054946dc8e55",
    "outputId": "b9775fa5-42df-4880-909a-0c4a4c7251fc"
   },
   "outputs": [
    {
     "data": {
      "text/html": [
       "<div>\n",
       "<style scoped>\n",
       "    .dataframe tbody tr th:only-of-type {\n",
       "        vertical-align: middle;\n",
       "    }\n",
       "\n",
       "    .dataframe tbody tr th {\n",
       "        vertical-align: top;\n",
       "    }\n",
       "\n",
       "    .dataframe thead th {\n",
       "        text-align: right;\n",
       "    }\n",
       "</style>\n",
       "<table border=\"1\" class=\"dataframe\">\n",
       "  <thead>\n",
       "    <tr style=\"text-align: right;\">\n",
       "      <th></th>\n",
       "      <th>gender</th>\n",
       "      <th>NationalITy</th>\n",
       "      <th>PlaceofBirth</th>\n",
       "      <th>StageID</th>\n",
       "      <th>GradeID</th>\n",
       "      <th>SectionID</th>\n",
       "      <th>Topic</th>\n",
       "      <th>Semester</th>\n",
       "      <th>Relation</th>\n",
       "      <th>raisedhands</th>\n",
       "      <th>VisITedResources</th>\n",
       "      <th>AnnouncementsView</th>\n",
       "      <th>Discussion</th>\n",
       "      <th>ParentAnsweringSurvey</th>\n",
       "      <th>ParentschoolSatisfaction</th>\n",
       "      <th>StudentAbsenceDays</th>\n",
       "      <th>Class</th>\n",
       "    </tr>\n",
       "  </thead>\n",
       "  <tbody>\n",
       "    <tr>\n",
       "      <th>0</th>\n",
       "      <td>M</td>\n",
       "      <td>KW</td>\n",
       "      <td>KuwaIT</td>\n",
       "      <td>lowerlevel</td>\n",
       "      <td>G-04</td>\n",
       "      <td>A</td>\n",
       "      <td>IT</td>\n",
       "      <td>F</td>\n",
       "      <td>Father</td>\n",
       "      <td>800.0</td>\n",
       "      <td>16</td>\n",
       "      <td>2</td>\n",
       "      <td>20</td>\n",
       "      <td>Yes</td>\n",
       "      <td>Good</td>\n",
       "      <td>Under-7</td>\n",
       "      <td>M</td>\n",
       "    </tr>\n",
       "    <tr>\n",
       "      <th>1</th>\n",
       "      <td>M</td>\n",
       "      <td>KW</td>\n",
       "      <td>KuwaIT</td>\n",
       "      <td>lowerlevel</td>\n",
       "      <td>G-04</td>\n",
       "      <td>A</td>\n",
       "      <td>IT</td>\n",
       "      <td>F</td>\n",
       "      <td>Father</td>\n",
       "      <td>20.0</td>\n",
       "      <td>20</td>\n",
       "      <td>3</td>\n",
       "      <td>25</td>\n",
       "      <td>Yes</td>\n",
       "      <td>Good</td>\n",
       "      <td>Under-7</td>\n",
       "      <td>M</td>\n",
       "    </tr>\n",
       "    <tr>\n",
       "      <th>2</th>\n",
       "      <td>M</td>\n",
       "      <td>KW</td>\n",
       "      <td>KuwaIT</td>\n",
       "      <td>lowerlevel</td>\n",
       "      <td>G-04</td>\n",
       "      <td>A</td>\n",
       "      <td>IT</td>\n",
       "      <td>F</td>\n",
       "      <td>Father</td>\n",
       "      <td>10.0</td>\n",
       "      <td>7</td>\n",
       "      <td>0</td>\n",
       "      <td>30</td>\n",
       "      <td>No</td>\n",
       "      <td>Bad</td>\n",
       "      <td>Above-7</td>\n",
       "      <td>L</td>\n",
       "    </tr>\n",
       "    <tr>\n",
       "      <th>3</th>\n",
       "      <td>M</td>\n",
       "      <td>KW</td>\n",
       "      <td>KuwaIT</td>\n",
       "      <td>lowerlevel</td>\n",
       "      <td>G-04</td>\n",
       "      <td>A</td>\n",
       "      <td>IT</td>\n",
       "      <td>F</td>\n",
       "      <td>Father</td>\n",
       "      <td>30.0</td>\n",
       "      <td>25</td>\n",
       "      <td>5</td>\n",
       "      <td>35</td>\n",
       "      <td>No</td>\n",
       "      <td>Bad</td>\n",
       "      <td>Above-7</td>\n",
       "      <td>L</td>\n",
       "    </tr>\n",
       "    <tr>\n",
       "      <th>4</th>\n",
       "      <td>M</td>\n",
       "      <td>KW</td>\n",
       "      <td>KuwaIT</td>\n",
       "      <td>lowerlevel</td>\n",
       "      <td>G-04</td>\n",
       "      <td>A</td>\n",
       "      <td>IT</td>\n",
       "      <td>F</td>\n",
       "      <td>Father</td>\n",
       "      <td>40.0</td>\n",
       "      <td>50</td>\n",
       "      <td>12</td>\n",
       "      <td>50</td>\n",
       "      <td>No</td>\n",
       "      <td>Bad</td>\n",
       "      <td>Above-7</td>\n",
       "      <td>M</td>\n",
       "    </tr>\n",
       "  </tbody>\n",
       "</table>\n",
       "</div>"
      ],
      "text/plain": [
       "  gender NationalITy PlaceofBirth     StageID GradeID SectionID Topic  \\\n",
       "0      M          KW       KuwaIT  lowerlevel    G-04         A    IT   \n",
       "1      M          KW       KuwaIT  lowerlevel    G-04         A    IT   \n",
       "2      M          KW       KuwaIT  lowerlevel    G-04         A    IT   \n",
       "3      M          KW       KuwaIT  lowerlevel    G-04         A    IT   \n",
       "4      M          KW       KuwaIT  lowerlevel    G-04         A    IT   \n",
       "\n",
       "  Semester Relation  raisedhands  VisITedResources  AnnouncementsView  \\\n",
       "0        F   Father        800.0                16                  2   \n",
       "1        F   Father         20.0                20                  3   \n",
       "2        F   Father         10.0                 7                  0   \n",
       "3        F   Father         30.0                25                  5   \n",
       "4        F   Father         40.0                50                 12   \n",
       "\n",
       "   Discussion ParentAnsweringSurvey ParentschoolSatisfaction  \\\n",
       "0          20                   Yes                     Good   \n",
       "1          25                   Yes                     Good   \n",
       "2          30                    No                      Bad   \n",
       "3          35                    No                      Bad   \n",
       "4          50                    No                      Bad   \n",
       "\n",
       "  StudentAbsenceDays Class  \n",
       "0            Under-7     M  \n",
       "1            Under-7     M  \n",
       "2            Above-7     L  \n",
       "3            Above-7     L  \n",
       "4            Above-7     M  "
      ]
     },
     "execution_count": 4,
     "metadata": {},
     "output_type": "execute_result"
    }
   ],
   "source": [
    "df.head()"
   ]
  },
  {
   "cell_type": "code",
   "execution_count": 5,
   "id": "826e7438-4513-42d6-9558-7133d5d7191c",
   "metadata": {
    "id": "826e7438-4513-42d6-9558-7133d5d7191c",
    "outputId": "b02103ac-8d48-452c-ebd8-d90833ad0642"
   },
   "outputs": [
    {
     "name": "stdout",
     "output_type": "stream",
     "text": [
      "<class 'pandas.core.frame.DataFrame'>\n",
      "RangeIndex: 480 entries, 0 to 479\n",
      "Data columns (total 17 columns):\n",
      " #   Column                    Non-Null Count  Dtype  \n",
      "---  ------                    --------------  -----  \n",
      " 0   gender                    480 non-null    object \n",
      " 1   NationalITy               480 non-null    object \n",
      " 2   PlaceofBirth              480 non-null    object \n",
      " 3   StageID                   480 non-null    object \n",
      " 4   GradeID                   480 non-null    object \n",
      " 5   SectionID                 480 non-null    object \n",
      " 6   Topic                     480 non-null    object \n",
      " 7   Semester                  480 non-null    object \n",
      " 8   Relation                  480 non-null    object \n",
      " 9   raisedhands               453 non-null    float64\n",
      " 10  VisITedResources          480 non-null    int64  \n",
      " 11  AnnouncementsView         480 non-null    int64  \n",
      " 12  Discussion                480 non-null    int64  \n",
      " 13  ParentAnsweringSurvey     480 non-null    object \n",
      " 14  ParentschoolSatisfaction  480 non-null    object \n",
      " 15  StudentAbsenceDays        480 non-null    object \n",
      " 16  Class                     480 non-null    object \n",
      "dtypes: float64(1), int64(3), object(13)\n",
      "memory usage: 63.9+ KB\n"
     ]
    }
   ],
   "source": [
    "df.info()"
   ]
  },
  {
   "cell_type": "code",
   "execution_count": 6,
   "id": "68e7a030-dfee-471c-bb07-e4f02adc2572",
   "metadata": {
    "id": "68e7a030-dfee-471c-bb07-e4f02adc2572",
    "outputId": "83ad8a59-6fb0-4af7-b12a-3f8459331ff8"
   },
   "outputs": [
    {
     "data": {
      "text/html": [
       "<div>\n",
       "<style scoped>\n",
       "    .dataframe tbody tr th:only-of-type {\n",
       "        vertical-align: middle;\n",
       "    }\n",
       "\n",
       "    .dataframe tbody tr th {\n",
       "        vertical-align: top;\n",
       "    }\n",
       "\n",
       "    .dataframe thead th {\n",
       "        text-align: right;\n",
       "    }\n",
       "</style>\n",
       "<table border=\"1\" class=\"dataframe\">\n",
       "  <thead>\n",
       "    <tr style=\"text-align: right;\">\n",
       "      <th></th>\n",
       "      <th>raisedhands</th>\n",
       "      <th>VisITedResources</th>\n",
       "      <th>AnnouncementsView</th>\n",
       "      <th>Discussion</th>\n",
       "    </tr>\n",
       "  </thead>\n",
       "  <tbody>\n",
       "    <tr>\n",
       "      <th>count</th>\n",
       "      <td>453.000000</td>\n",
       "      <td>480.000000</td>\n",
       "      <td>480.000000</td>\n",
       "      <td>480.000000</td>\n",
       "    </tr>\n",
       "    <tr>\n",
       "      <th>mean</th>\n",
       "      <td>51.849890</td>\n",
       "      <td>54.797917</td>\n",
       "      <td>37.918750</td>\n",
       "      <td>43.283333</td>\n",
       "    </tr>\n",
       "    <tr>\n",
       "      <th>std</th>\n",
       "      <td>59.881147</td>\n",
       "      <td>33.080007</td>\n",
       "      <td>26.611244</td>\n",
       "      <td>27.637735</td>\n",
       "    </tr>\n",
       "    <tr>\n",
       "      <th>min</th>\n",
       "      <td>-100.000000</td>\n",
       "      <td>0.000000</td>\n",
       "      <td>0.000000</td>\n",
       "      <td>1.000000</td>\n",
       "    </tr>\n",
       "    <tr>\n",
       "      <th>25%</th>\n",
       "      <td>18.000000</td>\n",
       "      <td>20.000000</td>\n",
       "      <td>14.000000</td>\n",
       "      <td>20.000000</td>\n",
       "    </tr>\n",
       "    <tr>\n",
       "      <th>50%</th>\n",
       "      <td>50.000000</td>\n",
       "      <td>65.000000</td>\n",
       "      <td>33.000000</td>\n",
       "      <td>39.000000</td>\n",
       "    </tr>\n",
       "    <tr>\n",
       "      <th>75%</th>\n",
       "      <td>76.000000</td>\n",
       "      <td>84.000000</td>\n",
       "      <td>58.000000</td>\n",
       "      <td>70.000000</td>\n",
       "    </tr>\n",
       "    <tr>\n",
       "      <th>max</th>\n",
       "      <td>800.000000</td>\n",
       "      <td>99.000000</td>\n",
       "      <td>98.000000</td>\n",
       "      <td>99.000000</td>\n",
       "    </tr>\n",
       "  </tbody>\n",
       "</table>\n",
       "</div>"
      ],
      "text/plain": [
       "       raisedhands  VisITedResources  AnnouncementsView  Discussion\n",
       "count   453.000000        480.000000         480.000000  480.000000\n",
       "mean     51.849890         54.797917          37.918750   43.283333\n",
       "std      59.881147         33.080007          26.611244   27.637735\n",
       "min    -100.000000          0.000000           0.000000    1.000000\n",
       "25%      18.000000         20.000000          14.000000   20.000000\n",
       "50%      50.000000         65.000000          33.000000   39.000000\n",
       "75%      76.000000         84.000000          58.000000   70.000000\n",
       "max     800.000000         99.000000          98.000000   99.000000"
      ]
     },
     "execution_count": 6,
     "metadata": {},
     "output_type": "execute_result"
    }
   ],
   "source": [
    "df.describe()"
   ]
  },
  {
   "cell_type": "markdown",
   "id": "14a17628-678b-4f0c-99f3-c10c0105ae14",
   "metadata": {
    "id": "14a17628-678b-4f0c-99f3-c10c0105ae14"
   },
   "source": [
    "## 1.Scan all variables for missing values and inconsistencies. If there are missing values and/or inconsistencies, use any of the suitable techniques to deal with them."
   ]
  },
  {
   "cell_type": "code",
   "execution_count": 7,
   "id": "a8c5a726-a6c5-4a30-8ef7-9a1b7f421ea7",
   "metadata": {
    "id": "a8c5a726-a6c5-4a30-8ef7-9a1b7f421ea7",
    "outputId": "1774c9aa-b7e3-4629-c443-96c71017d579"
   },
   "outputs": [
    {
     "data": {
      "text/html": [
       "<div>\n",
       "<style scoped>\n",
       "    .dataframe tbody tr th:only-of-type {\n",
       "        vertical-align: middle;\n",
       "    }\n",
       "\n",
       "    .dataframe tbody tr th {\n",
       "        vertical-align: top;\n",
       "    }\n",
       "\n",
       "    .dataframe thead th {\n",
       "        text-align: right;\n",
       "    }\n",
       "</style>\n",
       "<table border=\"1\" class=\"dataframe\">\n",
       "  <thead>\n",
       "    <tr style=\"text-align: right;\">\n",
       "      <th></th>\n",
       "      <th>gender</th>\n",
       "      <th>NationalITy</th>\n",
       "      <th>PlaceofBirth</th>\n",
       "      <th>StageID</th>\n",
       "      <th>GradeID</th>\n",
       "      <th>SectionID</th>\n",
       "      <th>Topic</th>\n",
       "      <th>Semester</th>\n",
       "      <th>Relation</th>\n",
       "      <th>raisedhands</th>\n",
       "      <th>VisITedResources</th>\n",
       "      <th>AnnouncementsView</th>\n",
       "      <th>Discussion</th>\n",
       "      <th>ParentAnsweringSurvey</th>\n",
       "      <th>ParentschoolSatisfaction</th>\n",
       "      <th>StudentAbsenceDays</th>\n",
       "      <th>Class</th>\n",
       "    </tr>\n",
       "  </thead>\n",
       "  <tbody>\n",
       "    <tr>\n",
       "      <th>0</th>\n",
       "      <td>False</td>\n",
       "      <td>False</td>\n",
       "      <td>False</td>\n",
       "      <td>False</td>\n",
       "      <td>False</td>\n",
       "      <td>False</td>\n",
       "      <td>False</td>\n",
       "      <td>False</td>\n",
       "      <td>False</td>\n",
       "      <td>False</td>\n",
       "      <td>False</td>\n",
       "      <td>False</td>\n",
       "      <td>False</td>\n",
       "      <td>False</td>\n",
       "      <td>False</td>\n",
       "      <td>False</td>\n",
       "      <td>False</td>\n",
       "    </tr>\n",
       "    <tr>\n",
       "      <th>1</th>\n",
       "      <td>False</td>\n",
       "      <td>False</td>\n",
       "      <td>False</td>\n",
       "      <td>False</td>\n",
       "      <td>False</td>\n",
       "      <td>False</td>\n",
       "      <td>False</td>\n",
       "      <td>False</td>\n",
       "      <td>False</td>\n",
       "      <td>False</td>\n",
       "      <td>False</td>\n",
       "      <td>False</td>\n",
       "      <td>False</td>\n",
       "      <td>False</td>\n",
       "      <td>False</td>\n",
       "      <td>False</td>\n",
       "      <td>False</td>\n",
       "    </tr>\n",
       "    <tr>\n",
       "      <th>2</th>\n",
       "      <td>False</td>\n",
       "      <td>False</td>\n",
       "      <td>False</td>\n",
       "      <td>False</td>\n",
       "      <td>False</td>\n",
       "      <td>False</td>\n",
       "      <td>False</td>\n",
       "      <td>False</td>\n",
       "      <td>False</td>\n",
       "      <td>False</td>\n",
       "      <td>False</td>\n",
       "      <td>False</td>\n",
       "      <td>False</td>\n",
       "      <td>False</td>\n",
       "      <td>False</td>\n",
       "      <td>False</td>\n",
       "      <td>False</td>\n",
       "    </tr>\n",
       "    <tr>\n",
       "      <th>3</th>\n",
       "      <td>False</td>\n",
       "      <td>False</td>\n",
       "      <td>False</td>\n",
       "      <td>False</td>\n",
       "      <td>False</td>\n",
       "      <td>False</td>\n",
       "      <td>False</td>\n",
       "      <td>False</td>\n",
       "      <td>False</td>\n",
       "      <td>False</td>\n",
       "      <td>False</td>\n",
       "      <td>False</td>\n",
       "      <td>False</td>\n",
       "      <td>False</td>\n",
       "      <td>False</td>\n",
       "      <td>False</td>\n",
       "      <td>False</td>\n",
       "    </tr>\n",
       "    <tr>\n",
       "      <th>4</th>\n",
       "      <td>False</td>\n",
       "      <td>False</td>\n",
       "      <td>False</td>\n",
       "      <td>False</td>\n",
       "      <td>False</td>\n",
       "      <td>False</td>\n",
       "      <td>False</td>\n",
       "      <td>False</td>\n",
       "      <td>False</td>\n",
       "      <td>False</td>\n",
       "      <td>False</td>\n",
       "      <td>False</td>\n",
       "      <td>False</td>\n",
       "      <td>False</td>\n",
       "      <td>False</td>\n",
       "      <td>False</td>\n",
       "      <td>False</td>\n",
       "    </tr>\n",
       "    <tr>\n",
       "      <th>...</th>\n",
       "      <td>...</td>\n",
       "      <td>...</td>\n",
       "      <td>...</td>\n",
       "      <td>...</td>\n",
       "      <td>...</td>\n",
       "      <td>...</td>\n",
       "      <td>...</td>\n",
       "      <td>...</td>\n",
       "      <td>...</td>\n",
       "      <td>...</td>\n",
       "      <td>...</td>\n",
       "      <td>...</td>\n",
       "      <td>...</td>\n",
       "      <td>...</td>\n",
       "      <td>...</td>\n",
       "      <td>...</td>\n",
       "      <td>...</td>\n",
       "    </tr>\n",
       "    <tr>\n",
       "      <th>475</th>\n",
       "      <td>False</td>\n",
       "      <td>False</td>\n",
       "      <td>False</td>\n",
       "      <td>False</td>\n",
       "      <td>False</td>\n",
       "      <td>False</td>\n",
       "      <td>False</td>\n",
       "      <td>False</td>\n",
       "      <td>False</td>\n",
       "      <td>False</td>\n",
       "      <td>False</td>\n",
       "      <td>False</td>\n",
       "      <td>False</td>\n",
       "      <td>False</td>\n",
       "      <td>False</td>\n",
       "      <td>False</td>\n",
       "      <td>False</td>\n",
       "    </tr>\n",
       "    <tr>\n",
       "      <th>476</th>\n",
       "      <td>False</td>\n",
       "      <td>False</td>\n",
       "      <td>False</td>\n",
       "      <td>False</td>\n",
       "      <td>False</td>\n",
       "      <td>False</td>\n",
       "      <td>False</td>\n",
       "      <td>False</td>\n",
       "      <td>False</td>\n",
       "      <td>False</td>\n",
       "      <td>False</td>\n",
       "      <td>False</td>\n",
       "      <td>False</td>\n",
       "      <td>False</td>\n",
       "      <td>False</td>\n",
       "      <td>False</td>\n",
       "      <td>False</td>\n",
       "    </tr>\n",
       "    <tr>\n",
       "      <th>477</th>\n",
       "      <td>False</td>\n",
       "      <td>False</td>\n",
       "      <td>False</td>\n",
       "      <td>False</td>\n",
       "      <td>False</td>\n",
       "      <td>False</td>\n",
       "      <td>False</td>\n",
       "      <td>False</td>\n",
       "      <td>False</td>\n",
       "      <td>False</td>\n",
       "      <td>False</td>\n",
       "      <td>False</td>\n",
       "      <td>False</td>\n",
       "      <td>False</td>\n",
       "      <td>False</td>\n",
       "      <td>False</td>\n",
       "      <td>False</td>\n",
       "    </tr>\n",
       "    <tr>\n",
       "      <th>478</th>\n",
       "      <td>False</td>\n",
       "      <td>False</td>\n",
       "      <td>False</td>\n",
       "      <td>False</td>\n",
       "      <td>False</td>\n",
       "      <td>False</td>\n",
       "      <td>False</td>\n",
       "      <td>False</td>\n",
       "      <td>False</td>\n",
       "      <td>False</td>\n",
       "      <td>False</td>\n",
       "      <td>False</td>\n",
       "      <td>False</td>\n",
       "      <td>False</td>\n",
       "      <td>False</td>\n",
       "      <td>False</td>\n",
       "      <td>False</td>\n",
       "    </tr>\n",
       "    <tr>\n",
       "      <th>479</th>\n",
       "      <td>False</td>\n",
       "      <td>False</td>\n",
       "      <td>False</td>\n",
       "      <td>False</td>\n",
       "      <td>False</td>\n",
       "      <td>False</td>\n",
       "      <td>False</td>\n",
       "      <td>False</td>\n",
       "      <td>False</td>\n",
       "      <td>False</td>\n",
       "      <td>False</td>\n",
       "      <td>False</td>\n",
       "      <td>False</td>\n",
       "      <td>False</td>\n",
       "      <td>False</td>\n",
       "      <td>False</td>\n",
       "      <td>False</td>\n",
       "    </tr>\n",
       "  </tbody>\n",
       "</table>\n",
       "<p>480 rows × 17 columns</p>\n",
       "</div>"
      ],
      "text/plain": [
       "     gender  NationalITy  PlaceofBirth  StageID  GradeID  SectionID  Topic  \\\n",
       "0     False        False         False    False    False      False  False   \n",
       "1     False        False         False    False    False      False  False   \n",
       "2     False        False         False    False    False      False  False   \n",
       "3     False        False         False    False    False      False  False   \n",
       "4     False        False         False    False    False      False  False   \n",
       "..      ...          ...           ...      ...      ...        ...    ...   \n",
       "475   False        False         False    False    False      False  False   \n",
       "476   False        False         False    False    False      False  False   \n",
       "477   False        False         False    False    False      False  False   \n",
       "478   False        False         False    False    False      False  False   \n",
       "479   False        False         False    False    False      False  False   \n",
       "\n",
       "     Semester  Relation  raisedhands  VisITedResources  AnnouncementsView  \\\n",
       "0       False     False        False             False              False   \n",
       "1       False     False        False             False              False   \n",
       "2       False     False        False             False              False   \n",
       "3       False     False        False             False              False   \n",
       "4       False     False        False             False              False   \n",
       "..        ...       ...          ...               ...                ...   \n",
       "475     False     False        False             False              False   \n",
       "476     False     False        False             False              False   \n",
       "477     False     False        False             False              False   \n",
       "478     False     False        False             False              False   \n",
       "479     False     False        False             False              False   \n",
       "\n",
       "     Discussion  ParentAnsweringSurvey  ParentschoolSatisfaction  \\\n",
       "0         False                  False                     False   \n",
       "1         False                  False                     False   \n",
       "2         False                  False                     False   \n",
       "3         False                  False                     False   \n",
       "4         False                  False                     False   \n",
       "..          ...                    ...                       ...   \n",
       "475       False                  False                     False   \n",
       "476       False                  False                     False   \n",
       "477       False                  False                     False   \n",
       "478       False                  False                     False   \n",
       "479       False                  False                     False   \n",
       "\n",
       "     StudentAbsenceDays  Class  \n",
       "0                 False  False  \n",
       "1                 False  False  \n",
       "2                 False  False  \n",
       "3                 False  False  \n",
       "4                 False  False  \n",
       "..                  ...    ...  \n",
       "475               False  False  \n",
       "476               False  False  \n",
       "477               False  False  \n",
       "478               False  False  \n",
       "479               False  False  \n",
       "\n",
       "[480 rows x 17 columns]"
      ]
     },
     "execution_count": 7,
     "metadata": {},
     "output_type": "execute_result"
    }
   ],
   "source": [
    "df.isnull()"
   ]
  },
  {
   "cell_type": "code",
   "execution_count": 8,
   "id": "d9f26698-dc65-46c3-a695-b4ddf1b703f9",
   "metadata": {
    "id": "d9f26698-dc65-46c3-a695-b4ddf1b703f9",
    "outputId": "cd209334-4ace-4026-9070-67684d498a20"
   },
   "outputs": [
    {
     "data": {
      "text/plain": [
       "gender                       0\n",
       "NationalITy                  0\n",
       "PlaceofBirth                 0\n",
       "StageID                      0\n",
       "GradeID                      0\n",
       "SectionID                    0\n",
       "Topic                        0\n",
       "Semester                     0\n",
       "Relation                     0\n",
       "raisedhands                 27\n",
       "VisITedResources             0\n",
       "AnnouncementsView            0\n",
       "Discussion                   0\n",
       "ParentAnsweringSurvey        0\n",
       "ParentschoolSatisfaction     0\n",
       "StudentAbsenceDays           0\n",
       "Class                        0\n",
       "dtype: int64"
      ]
     },
     "execution_count": 8,
     "metadata": {},
     "output_type": "execute_result"
    }
   ],
   "source": [
    "df.isnull().sum()"
   ]
  },
  {
   "cell_type": "code",
   "execution_count": 9,
   "id": "6df1d9b2-cbfa-4ff0-a331-a3f8c4c971f8",
   "metadata": {
    "id": "6df1d9b2-cbfa-4ff0-a331-a3f8c4c971f8"
   },
   "outputs": [],
   "source": [
    "new_df=df[\"raisedhands\"].replace(np.nan,0)"
   ]
  },
  {
   "cell_type": "code",
   "execution_count": 10,
   "id": "bb35140a-a52e-4a21-87a4-39152c721759",
   "metadata": {
    "id": "bb35140a-a52e-4a21-87a4-39152c721759",
    "outputId": "5422cf6b-6ae2-4834-fcf3-b74084d1b92d"
   },
   "outputs": [
    {
     "data": {
      "text/plain": [
       "0"
      ]
     },
     "execution_count": 10,
     "metadata": {},
     "output_type": "execute_result"
    }
   ],
   "source": [
    "new_df.isnull().sum()"
   ]
  },
  {
   "cell_type": "code",
   "execution_count": 11,
   "id": "f519817d-9354-40e0-8139-b17e5c59b857",
   "metadata": {
    "id": "f519817d-9354-40e0-8139-b17e5c59b857"
   },
   "outputs": [],
   "source": [
    "df.dropna(axis=0,inplace=True)"
   ]
  },
  {
   "cell_type": "code",
   "execution_count": 12,
   "id": "62950c5c-8bd2-4836-890d-0750db9db78c",
   "metadata": {
    "id": "62950c5c-8bd2-4836-890d-0750db9db78c",
    "outputId": "ad404095-49dd-4c1f-8633-c5670522f4e4"
   },
   "outputs": [
    {
     "name": "stdout",
     "output_type": "stream",
     "text": [
      "<class 'pandas.core.frame.DataFrame'>\n",
      "Index: 453 entries, 0 to 479\n",
      "Data columns (total 17 columns):\n",
      " #   Column                    Non-Null Count  Dtype  \n",
      "---  ------                    --------------  -----  \n",
      " 0   gender                    453 non-null    object \n",
      " 1   NationalITy               453 non-null    object \n",
      " 2   PlaceofBirth              453 non-null    object \n",
      " 3   StageID                   453 non-null    object \n",
      " 4   GradeID                   453 non-null    object \n",
      " 5   SectionID                 453 non-null    object \n",
      " 6   Topic                     453 non-null    object \n",
      " 7   Semester                  453 non-null    object \n",
      " 8   Relation                  453 non-null    object \n",
      " 9   raisedhands               453 non-null    float64\n",
      " 10  VisITedResources          453 non-null    int64  \n",
      " 11  AnnouncementsView         453 non-null    int64  \n",
      " 12  Discussion                453 non-null    int64  \n",
      " 13  ParentAnsweringSurvey     453 non-null    object \n",
      " 14  ParentschoolSatisfaction  453 non-null    object \n",
      " 15  StudentAbsenceDays        453 non-null    object \n",
      " 16  Class                     453 non-null    object \n",
      "dtypes: float64(1), int64(3), object(13)\n",
      "memory usage: 63.7+ KB\n"
     ]
    }
   ],
   "source": [
    "df.info()"
   ]
  },
  {
   "cell_type": "markdown",
   "id": "1bd3a275-8c2f-479e-8942-9bc18d48377d",
   "metadata": {
    "id": "1bd3a275-8c2f-479e-8942-9bc18d48377d"
   },
   "source": [
    "## 2.Scan all numeric variables for outliers. If there are outliers, use any of the suitable techniques to deal with them."
   ]
  },
  {
   "cell_type": "code",
   "execution_count": 18,
   "id": "20183da4-55ea-45f4-a3b5-fe4fb4b2038a",
   "metadata": {
    "id": "20183da4-55ea-45f4-a3b5-fe4fb4b2038a",
    "outputId": "1dc79e65-a114-48ec-d491-cd6de5d9e6fc"
   },
   "outputs": [
    {
     "data": {
      "image/png": "[encoded data removed]",
      "text/plain": [
       "<Figure size 640x480 with 2 Axes>"
      ]
     },
     "metadata": {},
     "output_type": "display_data"
    }
   ],
   "source": [
    "max_val = df['raisedhands'].quantile(0.95)\n",
    "min_val = df['raisedhands'].quantile(0.05)\n",
    "\n",
    "# Filter dataframe\n",
    "df2 = df[(df['raisedhands'] > min_val) & (df['raisedhands'] < max_val)]\n",
    "\n",
    "# Reset index\n",
    "df2.reset_index(drop=True, inplace=True)\n",
    "\n",
    "# Create subplots\n",
    "fig, axes = plt.subplots(1, 2)\n",
    "\n",
    "# Plot boxplot before filtering\n",
    "sb.boxplot(df['raisedhands'], orient='v', ax=axes[0]).set_title('Before')\n",
    "\n",
    "# Plot boxplot after filtering\n",
    "sb.boxplot(df2['raisedhands'], orient='v', ax=axes[1]).set_title('After')\n",
    "\n",
    "plt.show()\n"
   ]
  },
  {
   "cell_type": "markdown",
   "id": "33685fb0-13f2-4212-970a-01b93334a44c",
   "metadata": {
    "id": "33685fb0-13f2-4212-970a-01b93334a44c"
   },
   "source": [
    "## 3.Apply data transformations on at least one of the variables. The purpose of this transformation should be one of the following reasons: to change the scale for better understanding of the variable, to convert a non-linear relation into a linear one, or to decrease the skewness and convert the distribution into a normal distribution."
   ]
  },
  {
   "cell_type": "code",
   "execution_count": null,
   "id": "6ddf92ff-3c9a-411f-afc5-617eed8b2976",
   "metadata": {
    "id": "6ddf92ff-3c9a-411f-afc5-617eed8b2976",
    "outputId": "42f2748b-ccd9-4b06-cf04-150eeb3d1066"
   },
   "outputs": [],
   "source": [
    "df.head()"
   ]
  },
  {
   "cell_type": "code",
   "execution_count": null,
   "id": "98fffabf-4045-4932-aab5-c5a6da3c5752",
   "metadata": {
    "id": "98fffabf-4045-4932-aab5-c5a6da3c5752",
    "outputId": "e7a3b546-97ca-4d68-8f18-6a610f24c216"
   },
   "outputs": [],
   "source": [
    "scaler=StandardScaler()              #Scalaing the data\n",
    "x = df[['raisedhands','VisITedResources','AnnouncementsView','Discussion']]\n",
    "scaledf=scaler.fit_transform(x)\n",
    "print(scaledf)"
   ]
  },
  {
   "cell_type": "code",
   "execution_count": null,
   "id": "1dbc703a-2b70-4c56-96ab-3082a69684e8",
   "metadata": {
    "id": "1dbc703a-2b70-4c56-96ab-3082a69684e8",
    "outputId": "37853708-3e03-42b9-9d07-18a2dd263add"
   },
   "outputs": [],
   "source": [
    "df.Discussion.hist()"
   ]
  },
  {
   "cell_type": "code",
   "execution_count": null,
   "id": "44619b62-37d2-4a7b-a8d0-964b2fe634c7",
   "metadata": {
    "id": "44619b62-37d2-4a7b-a8d0-964b2fe634c7",
    "outputId": "a620d071-356c-423c-e5d8-59c8b039cc8a"
   },
   "outputs": [],
   "source": [
    "sb.distplot(df['Discussion'],bins=40)"
   ]
  },
  {
   "cell_type": "code",
   "execution_count": 14,
   "id": "8d7d0bd5-190c-4845-996c-076d5732c296",
   "metadata": {
    "id": "8d7d0bd5-190c-4845-996c-076d5732c296",
    "outputId": "cf339895-bb50-479a-9155-496eecaf9538"
   },
   "outputs": [
    {
     "data": {
      "text/plain": [
       "0.3936552505845156"
      ]
     },
     "execution_count": 14,
     "metadata": {},
     "output_type": "execute_result"
    }
   ],
   "source": [
    "df['Discussion'].skew()"
   ]
  },
  {
   "cell_type": "code",
   "execution_count": 15,
   "id": "ac1b8a4f-519f-458f-bd55-54daac148f90",
   "metadata": {
    "id": "ac1b8a4f-519f-458f-bd55-54daac148f90",
    "outputId": "4d017b82-7f24-4fc2-8b12-c388e60a37f1"
   },
   "outputs": [
    {
     "name": "stdout",
     "output_type": "stream",
     "text": [
      "-1.0657169168752911\n"
     ]
    }
   ],
   "source": [
    "log=np.log(df['Discussion'])\n",
    "print(log.skew())"
   ]
  },
  {
   "cell_type": "code",
   "execution_count": 16,
   "id": "b785853c-a19c-418c-a121-356fd025b8b7",
   "metadata": {
    "id": "b785853c-a19c-418c-a121-356fd025b8b7",
    "outputId": "bc055793-dc4e-4307-c142-e706b67b5e1d"
   },
   "outputs": [
    {
     "name": "stderr",
     "output_type": "stream",
     "text": [
      "/var/folders/yx/fbqgtypx3wz76xxzks5ywwh80000gn/T/ipykernel_1124/561089265.py:1: UserWarning: \n",
      "\n",
      "`distplot` is a deprecated function and will be removed in seaborn v0.14.0.\n",
      "\n",
      "Please adapt your code to use either `displot` (a figure-level function with\n",
      "similar flexibility) or `histplot` (an axes-level function for histograms).\n",
      "\n",
      "For a guide to updating your code to use the new functions, please see\n",
      "https://gist.github.com/mwaskom/de44147ed2974457ad6372750bbe5751\n",
      "\n",
      "  sb.distplot(log,bins=40)\n",
      "/opt/anaconda3/lib/python3.11/site-packages/seaborn/_oldcore.py:1119: FutureWarning: use_inf_as_na option is deprecated and will be removed in a future version. Convert inf values to NaN before operating instead.\n",
      "  with pd.option_context('mode.use_inf_as_na', True):\n"
     ]
    },
    {
     "data": {
      "text/plain": [
       "<Axes: xlabel='Discussion', ylabel='Density'>"
      ]
     },
     "execution_count": 16,
     "metadata": {},
     "output_type": "execute_result"
    },
    {
     "data": {
      "image/png": "[encoded data removed]",
      "text/plain": [
       "<Figure size 640x480 with 1 Axes>"
      ]
     },
     "metadata": {},
     "output_type": "display_data"
    }
   ],
   "source": [
    "sb.distplot(log,bins=40)"
   ]
  },
  {
   "cell_type": "code",
   "execution_count": null,
   "id": "71ceda53-cac6-48cf-b1df-de48bf099772",
   "metadata": {},
   "outputs": [],
   "source": []
  },
  {
   "cell_type": "code",
   "execution_count": null,
   "id": "ef415eb1-3879-4e70-af20-acc0103dcc30",
   "metadata": {},
   "outputs": [],
   "source": []
  },
  {
   "cell_type": "code",
   "execution_count": null,
   "id": "49702255-9456-4895-8241-4e6f2100df01",
   "metadata": {},
   "outputs": [],
   "source": []
  },
  {
   "cell_type": "code",
   "execution_count": null,
   "id": "9d642ba8-dd56-4094-95df-dad6c8013dc4",
   "metadata": {},
   "outputs": [],
   "source": []
  },
  {
   "cell_type": "code",
   "execution_count": null,
   "id": "82c8a9cd-9f40-4d1f-8110-4fff9213111c",
   "metadata": {},
   "outputs": [],
   "source": []
  }
 ],
 "metadata": {
  "colab": {
   "provenance": []
  },
  "kernelspec": {
   "display_name": "Python 3 (ipykernel)",
   "language": "python",
   "name": "python3"
  },
  "language_info": {
   "codemirror_mode": {
    "name": "ipython",
    "version": 3
   },
   "file_extension": ".py",
   "mimetype": "text/x-python",
   "name": "python",
   "nbconvert_exporter": "python",
   "pygments_lexer": "ipython3",
   "version": "3.11.7"
  }
 },
 "nbformat": 4,
 "nbformat_minor": 5
}
